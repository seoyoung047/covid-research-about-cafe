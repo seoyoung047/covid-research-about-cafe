{
 "cells": [
  {
   "cell_type": "code",
   "execution_count": 3,
   "metadata": {},
   "outputs": [],
   "source": [
    "import pandas as pd\n",
    "import numpy as np"
   ]
  },
  {
   "cell_type": "code",
   "execution_count": 136,
   "metadata": {},
   "outputs": [
    {
     "name": "stdout",
     "output_type": "stream",
     "text": [
      "<class 'pandas.core.frame.DataFrame'>\n",
      "RangeIndex: 24541 entries, 0 to 24540\n",
      "Data columns (total 11 columns):\n",
      " #   Column       Non-Null Count  Dtype         \n",
      "---  ------       --------------  -----         \n",
      " 0   Unnamed: 0   24541 non-null  int64         \n",
      " 1   APVPERMYMD   24541 non-null  datetime64[ns]\n",
      " 2   TRDSTATEGBN  24541 non-null  int64         \n",
      " 3   TRDSTATENM   24541 non-null  object        \n",
      " 4   DCBYMD       8624 non-null   datetime64[ns]\n",
      " 5   SITEAREA     23486 non-null  object        \n",
      " 6   RDNWHLADDR   24541 non-null  object        \n",
      " 7   BPLCNM       24541 non-null  object        \n",
      " 8   X            24541 non-null  float64       \n",
      " 9   Y            24541 non-null  float64       \n",
      " 10  region       24541 non-null  object        \n",
      "dtypes: datetime64[ns](2), float64(2), int64(2), object(5)\n",
      "memory usage: 2.1+ MB\n"
     ]
    }
   ],
   "source": [
    "cfdata = pd.read_csv('./data/cfdata.csv')\n",
    "\n",
    "date = pd.to_datetime(cfdata['DCBYMD'],format='%Y-%m-%d')\n",
    "opdate = pd.to_datetime(cfdata['APVPERMYMD'],format='%Y-%m-%d')\n",
    "cfdata['DCBYMD'] = date\n",
    "cfdata['APVPERMYMD'] = opdate\n",
    "\n",
    "cfdata.info()"
   ]
  },
  {
   "cell_type": "code",
   "execution_count": 137,
   "metadata": {},
   "outputs": [],
   "source": [
    "cfdata = cfdata.drop(['Unnamed: 0'],axis = 1)"
   ]
  },
  {
   "cell_type": "code",
   "execution_count": 138,
   "metadata": {},
   "outputs": [
    {
     "name": "stdout",
     "output_type": "stream",
     "text": [
      "<class 'pandas.core.frame.DataFrame'>\n",
      "RangeIndex: 23486 entries, 0 to 23485\n",
      "Data columns (total 10 columns):\n",
      " #   Column       Non-Null Count  Dtype         \n",
      "---  ------       --------------  -----         \n",
      " 0   APVPERMYMD   23486 non-null  datetime64[ns]\n",
      " 1   TRDSTATEGBN  23486 non-null  int64         \n",
      " 2   TRDSTATENM   23486 non-null  object        \n",
      " 3   DCBYMD       8344 non-null   datetime64[ns]\n",
      " 4   SITEAREA     23486 non-null  object        \n",
      " 5   RDNWHLADDR   23486 non-null  object        \n",
      " 6   BPLCNM       23486 non-null  object        \n",
      " 7   X            23486 non-null  float64       \n",
      " 8   Y            23486 non-null  float64       \n",
      " 9   region       23486 non-null  object        \n",
      "dtypes: datetime64[ns](2), float64(2), int64(1), object(5)\n",
      "memory usage: 1.8+ MB\n"
     ]
    }
   ],
   "source": [
    "cfdata = cfdata.dropna(axis=0,subset=['SITEAREA'])\n",
    "cfdata = cfdata.reset_index(drop='Ture')\n",
    "cfdata.info()"
   ]
  },
  {
   "cell_type": "code",
   "execution_count": 139,
   "metadata": {},
   "outputs": [
    {
     "data": {
      "text/plain": [
       "'en_US.UTF-8'"
      ]
     },
     "execution_count": 139,
     "metadata": {},
     "output_type": "execute_result"
    }
   ],
   "source": [
    "import locale\n",
    "locale.setlocale(locale.LC_ALL, 'en_US.UTF-8')"
   ]
  },
  {
   "cell_type": "code",
   "execution_count": 140,
   "metadata": {},
   "outputs": [
    {
     "name": "stderr",
     "output_type": "stream",
     "text": [
      "<ipython-input-140-e1dcb61a17ee>:2: SettingWithCopyWarning: \n",
      "A value is trying to be set on a copy of a slice from a DataFrame\n",
      "\n",
      "See the caveats in the documentation: https://pandas.pydata.org/pandas-docs/stable/user_guide/indexing.html#returning-a-view-versus-a-copy\n",
      "  cfdata['SITEAREA'][i] = locale.atof(cfdata['SITEAREA'][i])\n"
     ]
    }
   ],
   "source": [
    "for i in range(len(cfdata['SITEAREA'])):\n",
    "    cfdata['SITEAREA'][i] = locale.atof(cfdata['SITEAREA'][i])"
   ]
  },
  {
   "cell_type": "code",
   "execution_count": 180,
   "metadata": {},
   "outputs": [
    {
     "data": {
      "text/plain": [
       "0         22.53\n",
       "1            22\n",
       "2         74.21\n",
       "3        337.19\n",
       "4            30\n",
       "          ...  \n",
       "23481      98.1\n",
       "23482        50\n",
       "23483     142.5\n",
       "23484        62\n",
       "23485     66.84\n",
       "Name: SITEAREA, Length: 23486, dtype: object"
      ]
     },
     "execution_count": 180,
     "metadata": {},
     "output_type": "execute_result"
    }
   ],
   "source": [
    "cfdata.SITEAREA"
   ]
  },
  {
   "cell_type": "code",
   "execution_count": 179,
   "metadata": {},
   "outputs": [
    {
     "name": "stdout",
     "output_type": "stream",
     "text": [
      "9334\n",
      "10270\n",
      "3882\n"
     ]
    }
   ],
   "source": [
    "print(len(cfdata.loc[(cfdata.SITEAREA <= 33)]))\n",
    "print(len(cfdata.loc[(cfdata.SITEAREA > 33) & (cfdata.SITEAREA < 100)]))\n",
    "print(len(cfdata.loc[(cfdata.SITEAREA >= 100)]))"
   ]
  },
  {
   "cell_type": "code",
   "execution_count": 181,
   "metadata": {},
   "outputs": [
    {
     "data": {
      "text/plain": [
       "126"
      ]
     },
     "execution_count": 181,
     "metadata": {},
     "output_type": "execute_result"
    }
   ],
   "source": [
    "len(cfdata.loc[(cfdata.DCBYMD.dt.year == 2020) & (cfdata.DCBYMD.dt.month == 12) & (cfdata.SITEAREA <= 33)])"
   ]
  },
  {
   "cell_type": "code",
   "execution_count": 185,
   "metadata": {},
   "outputs": [],
   "source": [
    "area = pd.DataFrame({'연도':[],'월':[],'구':[],'폐업수':[],'영업수':[],'넓이':[]})\n",
    "\n",
    "reg_list=[]    \n",
    "year_list=[]\n",
    "month_list=[]\n",
    "closed_list=[]\n",
    "open_list=[]\n",
    "area_list=[]\n",
    "\n",
    "reg=['용산구', '금천구', '서초구', '영등포구', '동대문구', '중구', '강남구', '관악구', '송파구','성동구', '광진구', '도봉구', '양천구', '강서구', '강동구', '중랑구', '구로구', '동작구','서대문구', '은평구', '종로구', '마포구', '강북구', '성북구', '노원구']\n",
    "\n",
    "\n",
    "for i in range(len(reg)):\n",
    "\n",
    "    reg_cfdata = cfdata.loc[cfdata.region == reg[i],:]    #구별 cfdata\n",
    "    \n",
    "    for k in range(0,4):\n",
    "        year = 2017\n",
    "        year += k\n",
    "        \n",
    "        year_reg = reg_cfdata.loc[reg_cfdata.DCBYMD.dt.year == year]  #연도별 reg_cfdata\n",
    "\n",
    "        count_reg_cfdata = len(reg_cfdata)  #reg[i]구 year년 영업/폐업 데이터\n",
    "\n",
    "        for j in range(1,13) :\n",
    "            \n",
    "            a33 = year_reg.loc[(year_reg.DCBYMD.dt.year == year) & (year_reg.DCBYMD.dt.month == j) & (cfdata.SITEAREA <= 33)]  #year년 j월 구별 폐업 데이터\n",
    "            a3410 = year_reg.loc[(year_reg.DCBYMD.dt.year == year) & (year_reg.DCBYMD.dt.month == j) & (cfdata.SITEAREA > 33) & (cfdata.SITEAREA < 100)]\n",
    "            a100 = year_reg.loc[(year_reg.DCBYMD.dt.year == year) & (year_reg.DCBYMD.dt.month == j) & (cfdata.SITEAREA >= 100)]\n",
    "            \n",
    "            closed_list.append(len(a33))  #폐업수\n",
    "            closed_list.append(len(a3410))\n",
    "            closed_list.append(len(a100))\n",
    "            \n",
    "            opendata = count_reg_cfdata - len(a33)  #영업수\n",
    "            open_list.append(opendata)\n",
    "            \n",
    "            opendata = count_reg_cfdata - len(a3410)  #영업수\n",
    "            open_list.append(opendata)\n",
    "            \n",
    "            opendata = count_reg_cfdata - len(a100)  #영업수\n",
    "            open_list.append(opendata)\n",
    "            \n",
    "            area_list.append('~33')\n",
    "            area_list.append('34~100')\n",
    "            area_list.append('100~')\n",
    "            \n",
    "            for k in range(3):\n",
    "                reg_list.append(reg[i])\n",
    "                year_list.append(year)\n",
    "                month_list.append(j)\n",
    "\n",
    "area['연도'] = year_list\n",
    "area['월'] = month_list\n",
    "area['구'] = reg_list\n",
    "area['폐업수'] = closed_list\n",
    "area['영업수'] = open_list\n",
    "area['넓이'] = area_list"
   ]
  },
  {
   "cell_type": "code",
   "execution_count": 1,
   "metadata": {},
   "outputs": [
    {
     "ename": "NameError",
     "evalue": "name 'area' is not defined",
     "output_type": "error",
     "traceback": [
      "\u001b[1;31m---------------------------------------------------------------------------\u001b[0m",
      "\u001b[1;31mNameError\u001b[0m                                 Traceback (most recent call last)",
      "\u001b[1;32m<ipython-input-1-abd0f297d460>\u001b[0m in \u001b[0;36m<module>\u001b[1;34m\u001b[0m\n\u001b[1;32m----> 1\u001b[1;33m \u001b[0mdj\u001b[0m \u001b[1;33m=\u001b[0m \u001b[0marea\u001b[0m\u001b[1;33m.\u001b[0m\u001b[0mloc\u001b[0m\u001b[1;33m[\u001b[0m\u001b[1;33m(\u001b[0m\u001b[0marea\u001b[0m\u001b[1;33m[\u001b[0m\u001b[1;34m'구'\u001b[0m\u001b[1;33m]\u001b[0m \u001b[1;33m==\u001b[0m \u001b[1;34m'동작구'\u001b[0m\u001b[1;33m)\u001b[0m \u001b[1;33m&\u001b[0m \u001b[1;33m(\u001b[0m\u001b[0marea\u001b[0m\u001b[1;33m[\u001b[0m\u001b[1;34m'연도'\u001b[0m\u001b[1;33m]\u001b[0m \u001b[1;33m==\u001b[0m \u001b[1;36m2020\u001b[0m\u001b[1;33m)\u001b[0m\u001b[1;33m]\u001b[0m\u001b[1;33m\u001b[0m\u001b[1;33m\u001b[0m\u001b[0m\n\u001b[0m",
      "\u001b[1;31mNameError\u001b[0m: name 'area' is not defined"
     ]
    }
   ],
   "source": [
    "area.loc[(area['구'] == '동작구') & (area['연도'] == 2020)]"
   ]
  },
  {
   "cell_type": "code",
   "execution_count": 189,
   "metadata": {},
   "outputs": [],
   "source": [
    "area.to_csv('./data/area_df.csv',encoding='utf-8')"
   ]
  },
  {
   "cell_type": "code",
   "execution_count": 4,
   "metadata": {},
   "outputs": [],
   "source": [
    "area = pd.read_csv('./data/area_df.csv')"
   ]
  },
  {
   "cell_type": "code",
   "execution_count": 6,
   "metadata": {},
   "outputs": [],
   "source": [
    "dj = area.loc[(area['구'] == '동작구') & (area['연도'] == 2020)]"
   ]
  },
  {
   "cell_type": "code",
   "execution_count": 10,
   "metadata": {},
   "outputs": [
    {
     "data": {
      "text/plain": [
       "<AxesSubplot:>"
      ]
     },
     "execution_count": 10,
     "metadata": {},
     "output_type": "execute_result"
    },
    {
     "data": {
      "image/png": "[encoded data removed]",
      "text/plain": [
       "<Figure size 432x288 with 1 Axes>"
      ]
     },
     "metadata": {
      "needs_background": "light"
     },
     "output_type": "display_data"
    }
   ],
   "source": [
    "dj['폐업수'].plot()"
   ]
  },
  {
   "cell_type": "code",
   "execution_count": null,
   "metadata": {},
   "outputs": [],
   "source": []
  }
 ],
 "metadata": {
  "kernelspec": {
   "display_name": "Python 3",
   "language": "python",
   "name": "python3"
  },
  "language_info": {
   "codemirror_mode": {
    "name": "ipython",
    "version": 3
   },
   "file_extension": ".py",
   "mimetype": "text/x-python",
   "name": "python",
   "nbconvert_exporter": "python",
   "pygments_lexer": "ipython3",
   "version": "3.8.5"
  }
 },
 "nbformat": 4,
 "nbformat_minor": 4
}
