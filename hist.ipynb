{
 "cells": [
  {
   "cell_type": "code",
   "execution_count": 1,
   "metadata": {},
   "outputs": [],
   "source": [
    "import pandas as pd\n",
    "from datetime import datetime   \n",
    "import matplotlib.pyplot as plt   \n",
    "import matplotlib.font_manager as fm\n",
    "import numpy as np"
   ]
  },
  {
   "cell_type": "code",
   "execution_count": 2,
   "metadata": {},
   "outputs": [
    {
     "name": "stderr",
     "output_type": "stream",
     "text": [
      "C:\\Users\\user\\anaconda3\\lib\\site-packages\\IPython\\core\\interactiveshell.py:3145: DtypeWarning: Columns (4,5) have mixed types.Specify dtype option on import or set low_memory=False.\n",
      "  has_raised = await self.run_ast_nodes(code_ast.body, cell_name,\n"
     ]
    }
   ],
   "source": [
    "cfdata = pd.read_csv('./data/cfdata.csv')"
   ]
  },
  {
   "cell_type": "code",
   "execution_count": 3,
   "metadata": {},
   "outputs": [
    {
     "name": "stdout",
     "output_type": "stream",
     "text": [
      "<class 'pandas.core.frame.DataFrame'>\n",
      "RangeIndex: 26545 entries, 0 to 26544\n",
      "Data columns (total 59 columns):\n",
      " #   Column       Non-Null Count  Dtype  \n",
      "---  ------       --------------  -----  \n",
      " 0   Unnamed: 0   26545 non-null  int64  \n",
      " 1   APVPERMYMD   26545 non-null  object \n",
      " 2   TRDSTATEGBN  26545 non-null  int64  \n",
      " 3   TRDSTATENM   26545 non-null  object \n",
      " 4   DCBYMD       10145 non-null  object \n",
      " 5   SITEAREA     25600 non-null  object \n",
      " 6   BPLCNM       26545 non-null  object \n",
      " 7   X            26545 non-null  float64\n",
      " 8   Y            26545 non-null  float64\n",
      " 9   region       26545 non-null  object \n",
      " 10  ADDR         26545 non-null  object \n",
      " 11  JIGA         26545 non-null  int64  \n",
      " 12  op_op        26545 non-null  int64  \n",
      " 13  op_op_12     26545 non-null  int64  \n",
      " 14  op_op_6      26545 non-null  int64  \n",
      " 15  op_op_3      26545 non-null  int64  \n",
      " 16  op_cl        26545 non-null  int64  \n",
      " 17  op_cl_12     26545 non-null  int64  \n",
      " 18  op_cl_6      26545 non-null  int64  \n",
      " 19  op_cl_3      26545 non-null  int64  \n",
      " 20  cl_op        26545 non-null  int64  \n",
      " 21  cl_op_12     26545 non-null  int64  \n",
      " 22  cl_op_6      26545 non-null  int64  \n",
      " 23  cl_op_3      26545 non-null  int64  \n",
      " 24  cl_cl        26545 non-null  int64  \n",
      " 25  cl_cl_12     26545 non-null  int64  \n",
      " 26  cl_cl_6      26545 non-null  int64  \n",
      " 27  cl_cl_3      26545 non-null  int64  \n",
      " 28  region_2     26545 non-null  object \n",
      " 29  계            26545 non-null  object \n",
      " 30  0~4세         26545 non-null  object \n",
      " 31  5~9세         26545 non-null  object \n",
      " 32  10~14세       26545 non-null  object \n",
      " 33  15~19세       26545 non-null  object \n",
      " 34  20~24세       26545 non-null  object \n",
      " 35  25~29세       26545 non-null  object \n",
      " 36  30~34세       26545 non-null  object \n",
      " 37  35~39세       26545 non-null  object \n",
      " 38  40~44세       26545 non-null  object \n",
      " 39  45~49세       26545 non-null  object \n",
      " 40  50~54세       26545 non-null  object \n",
      " 41  55~59세       26545 non-null  object \n",
      " 42  60~64세       26545 non-null  object \n",
      " 43  65~69세       26545 non-null  object \n",
      " 44  70~74세       26545 non-null  object \n",
      " 45  75~79세       26545 non-null  object \n",
      " 46  80~84세       26545 non-null  object \n",
      " 47  85~89세       26545 non-null  int64  \n",
      " 48  90~94세       26545 non-null  int64  \n",
      " 49  95~99세       26545 non-null  int64  \n",
      " 50  100세 이상      26525 non-null  object \n",
      " 51  num_sw8      26545 non-null  int64  \n",
      " 52  sw8_name     26545 non-null  object \n",
      " 53  sw8_dist     26545 non-null  object \n",
      " 54  at4          26545 non-null  int64  \n",
      " 55  po3          26545 non-null  int64  \n",
      " 56  num_unv      26545 non-null  int64  \n",
      " 57  unv_name     26545 non-null  object \n",
      " 58  unv_dist     26545 non-null  object \n",
      "dtypes: float64(2), int64(26), object(31)\n",
      "memory usage: 11.9+ MB\n"
     ]
    }
   ],
   "source": [
    "cfdata.info()"
   ]
  },
  {
   "cell_type": "code",
   "execution_count": 4,
   "metadata": {},
   "outputs": [],
   "source": [
    "cfdata = cfdata.drop(['Unnamed: 0'],axis = 1)"
   ]
  },
  {
   "cell_type": "code",
   "execution_count": 5,
   "metadata": {},
   "outputs": [],
   "source": [
    "dongjak = cfdata[cfdata['region']=='동작구']"
   ]
  },
  {
   "cell_type": "code",
   "execution_count": 6,
   "metadata": {},
   "outputs": [],
   "source": [
    "cl_dongjak = dongjak[dongjak['TRDSTATEGBN']==3]\n",
    "op_dongjak = dongjak[dongjak['TRDSTATEGBN']==1]"
   ]
  },
  {
   "cell_type": "code",
   "execution_count": 7,
   "metadata": {},
   "outputs": [],
   "source": [
    "cl_dongjak = cl_dongjak.reset_index(drop=True)\n",
    "op_dongjak = op_dongjak.reset_index(drop=True)"
   ]
  },
  {
   "cell_type": "code",
   "execution_count": 28,
   "metadata": {},
   "outputs": [],
   "source": [
    "font_path = r'C:\\Users\\user\\Desktop\\폰트\\Seoulnamsan_ttf\\서울남산 장체L.ttf'\n",
    "fontprop = fm.FontProperties(fname=font_path, size=15)"
   ]
  },
  {
   "cell_type": "code",
   "execution_count": 29,
   "metadata": {},
   "outputs": [
    {
     "data": {
      "image/png": "[encoded data removed]",
      "text/plain": [
       "<Figure size 432x288 with 2 Axes>"
      ]
     },
     "metadata": {
      "needs_background": "light"
     },
     "output_type": "display_data"
    }
   ],
   "source": [
    "fig = plt.figure()\n",
    "grah1 = fig.add_subplot(1,2,1)\n",
    "grah1.hist(cl_dongjak['num_sw8'],bins=10)\n",
    "grah1.set_title('폐업 가게 주변 지하철역 수',fontproperties=fontprop)\n",
    "grah2 = fig.add_subplot(1,2,2)\n",
    "grah2.hist(op_dongjak['num_sw8'],bins=10)\n",
    "grah2.set_title('영업중 가게 주변 지하철역 수',fontproperties=fontprop)\n",
    "plt.show()"
   ]
  },
  {
   "cell_type": "code",
   "execution_count": 30,
   "metadata": {},
   "outputs": [
    {
     "data": {
      "image/png": "[encoded data removed]",
      "text/plain": [
       "<Figure size 432x288 with 2 Axes>"
      ]
     },
     "metadata": {
      "needs_background": "light"
     },
     "output_type": "display_data"
    }
   ],
   "source": [
    "fig = plt.figure()\n",
    "grah1 = fig.add_subplot(1,2,1)\n",
    "grah1.hist(cl_dongjak['num_unv'],bins=10)\n",
    "grah1.set_title('폐업 가게 주변 대학교 수',fontproperties=fontprop)\n",
    "grah2 = fig.add_subplot(1,2,2)\n",
    "grah2.hist(op_dongjak['num_unv'],bins=10)\n",
    "grah2.set_title('영업중 가게 주변 대학교 수',fontproperties=fontprop)\n",
    "plt.show()"
   ]
  },
  {
   "cell_type": "code",
   "execution_count": 36,
   "metadata": {},
   "outputs": [
    {
     "data": {
      "image/png": "[encoded data removed]",
      "text/plain": [
       "<Figure size 432x288 with 2 Axes>"
      ]
     },
     "metadata": {
      "needs_background": "light"
     },
     "output_type": "display_data"
    }
   ],
   "source": [
    "fig = plt.figure()\n",
    "grah1 = fig.add_subplot(1,2,1)\n",
    "grah1.hist(cl_dongjak['at4'],bins=15)\n",
    "grah1.set_title('폐업 가게 주변 관광명소',fontproperties=fontprop)\n",
    "grah2 = fig.add_subplot(1,2,2)\n",
    "grah2.hist(op_dongjak['at4'],bins=15)\n",
    "grah2.set_title('영업중 가게 주변 관광명소',fontproperties=fontprop)\n",
    "plt.show()"
   ]
  },
  {
   "cell_type": "code",
   "execution_count": 39,
   "metadata": {},
   "outputs": [
    {
     "data": {
      "image/png": "[encoded data removed]",
      "text/plain": [
       "<Figure size 432x288 with 2 Axes>"
      ]
     },
     "metadata": {
      "needs_background": "light"
     },
     "output_type": "display_data"
    }
   ],
   "source": [
    "fig = plt.figure()\n",
    "grah1 = fig.add_subplot(1,2,1)\n",
    "grah1.hist(cl_dongjak['po3'],bins=25)\n",
    "grah1.set_title('폐업 가게 주변 공공기관',fontproperties=fontprop)\n",
    "grah2 = fig.add_subplot(1,2,2)\n",
    "grah2.hist(op_dongjak['po3'],bins=25)\n",
    "grah2.set_title('영업중 가게 주변 공공기관',fontproperties=fontprop)\n",
    "plt.show()"
   ]
  },
  {
   "cell_type": "code",
   "execution_count": null,
   "metadata": {},
   "outputs": [],
   "source": []
  }
 ],
 "metadata": {
  "kernelspec": {
   "display_name": "Python 3",
   "language": "python",
   "name": "python3"
  },
  "language_info": {
   "codemirror_mode": {
    "name": "ipython",
    "version": 3
   },
   "file_extension": ".py",
   "mimetype": "text/x-python",
   "name": "python",
   "nbconvert_exporter": "python",
   "pygments_lexer": "ipython3",
   "version": "3.8.5"
  }
 },
 "nbformat": 4,
 "nbformat_minor": 4
}
