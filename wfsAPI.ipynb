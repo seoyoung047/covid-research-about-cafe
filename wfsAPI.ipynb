{
 "cells": [
  {
   "cell_type": "code",
   "execution_count": 16,
   "metadata": {},
   "outputs": [],
   "source": [
    "import requests\n",
    "import json\n",
    "import pandas as pd\n",
    "import datetime as dt\n",
    "import numpy as np\n",
    "from urllib.request import Request, urlopen\n",
    "from urllib.parse import urlencode, quote_plus\n",
    "#pip install xmltodict\n",
    "import xmltodict\n",
    "import xml.etree.cElementTree as ET"
   ]
  },
  {
   "cell_type": "code",
   "execution_count": 17,
   "metadata": {},
   "outputs": [],
   "source": [
    "cfdata = pd.read_csv('./data/cfdata.csv')"
   ]
  },
  {
   "cell_type": "code",
   "execution_count": 18,
   "metadata": {},
   "outputs": [
    {
     "name": "stdout",
     "output_type": "stream",
     "text": [
      "<class 'pandas.core.frame.DataFrame'>\n",
      "RangeIndex: 24541 entries, 0 to 24540\n",
      "Data columns (total 11 columns):\n",
      " #   Column       Non-Null Count  Dtype  \n",
      "---  ------       --------------  -----  \n",
      " 0   Unnamed: 0   24541 non-null  int64  \n",
      " 1   APVPERMYMD   24541 non-null  object \n",
      " 2   TRDSTATEGBN  24541 non-null  int64  \n",
      " 3   TRDSTATENM   24541 non-null  object \n",
      " 4   DCBYMD       8624 non-null   object \n",
      " 5   SITEAREA     23486 non-null  object \n",
      " 6   BPLCNM       24541 non-null  object \n",
      " 7   X            24541 non-null  float64\n",
      " 8   Y            24541 non-null  float64\n",
      " 9   region       24541 non-null  object \n",
      " 10  ADDR         24541 non-null  object \n",
      "dtypes: float64(2), int64(2), object(7)\n",
      "memory usage: 2.1+ MB\n"
     ]
    }
   ],
   "source": [
    "#cfdata = cfdata.drop(['Unnamed: 0'],axis = 1)\n",
    "cfdata.info()"
   ]
  },
  {
   "cell_type": "code",
   "execution_count": 19,
   "metadata": {},
   "outputs": [
    {
     "data": {
      "text/plain": [
       "0      서울특별시 강동구 양재대로87길 11 \n",
       "1       서울특별시 강동구 진황도로27길 23\n",
       "2        서울특별시 강동구 구천면로 428 \n",
       "3         서울특별시 강동구 강동대로 205\n",
       "4       서울특별시 강동구 풍성로63길 84 \n",
       "5         서울특별시 강동구 올림픽로 660\n",
       "6          서울특별시 강동구 진황도로 74\n",
       "7       서울특별시 강동구 풍성로63길 79 \n",
       "8        서울특별시 강동구 고덕로83길 28\n",
       "9        서울특별시 강동구 천호대로 1016\n",
       "10       서울특별시 강동구 양재대로 1355\n",
       "11       서울특별시 강동구 동남로81길 76\n",
       "12        서울특별시 강동구 천호대로 991\n",
       "13       서울특별시 강동구 천호대로 1092\n",
       "14    서울특별시 강동구 양재대로128길 50 \n",
       "15       서울특별시 강동구 천호대로 1005\n",
       "16      서울특별시 강동구 상암로51길 46 \n",
       "17    서울특별시 강동구 천호대로 1138-18\n",
       "Name: ADDR, dtype: object"
      ]
     },
     "execution_count": 19,
     "metadata": {},
     "output_type": "execute_result"
    }
   ],
   "source": [
    "cfdata.ADDR[:18]"
   ]
  },
  {
   "cell_type": "code",
   "execution_count": 41,
   "metadata": {},
   "outputs": [
    {
     "data": {
      "text/plain": [
       "{'documents': [{'address': {'address_name': '서울 강동구 천호동 167-73',\n",
       "    'b_code': '1174010900',\n",
       "    'h_code': '1174062000',\n",
       "    'main_address_no': '167',\n",
       "    'mountain_yn': 'N',\n",
       "    'region_1depth_name': '서울',\n",
       "    'region_2depth_name': '강동구',\n",
       "    'region_3depth_h_name': '천호3동',\n",
       "    'region_3depth_name': '천호동',\n",
       "    'sub_address_no': '73',\n",
       "    'x': '127.131828859786',\n",
       "    'y': '37.5394669965987'},\n",
       "   'address_name': '서울 강동구 진황도로27길 23',\n",
       "   'address_type': 'ROAD_ADDR',\n",
       "   'road_address': {'address_name': '서울 강동구 진황도로27길 23',\n",
       "    'building_name': '에스아이팰리스',\n",
       "    'main_building_no': '23',\n",
       "    'region_1depth_name': '서울',\n",
       "    'region_2depth_name': '강동구',\n",
       "    'region_3depth_name': '천호동',\n",
       "    'road_name': '진황도로27길',\n",
       "    'sub_building_no': '',\n",
       "    'underground_yn': 'N',\n",
       "    'x': '127.131828859786',\n",
       "    'y': '37.5394669965987',\n",
       "    'zone_no': '05333'},\n",
       "   'x': '127.131828859786',\n",
       "   'y': '37.5394669965987'}],\n",
       " 'meta': {'is_end': True, 'pageable_count': 1, 'total_count': 1}}"
      ]
     },
     "execution_count": 41,
     "metadata": {},
     "output_type": "execute_result"
    }
   ],
   "source": [
    "url1 = 'https://dapi.kakao.com/v2/local/search/address.json?query='+ cfdata.ADDR[1]\n",
    "headers = {\"Authorization\": \"KakaoAK 6341d1e76477fbac498a469adc87108d\"}\n",
    "result1 = json.loads(str(requests.get(url1, headers=headers).text))\n",
    "result1"
   ]
  },
  {
   "cell_type": "code",
   "execution_count": 21,
   "metadata": {},
   "outputs": [
    {
     "name": "stdout",
     "output_type": "stream",
     "text": [
      "24541\n"
     ]
    }
   ],
   "source": [
    "all_pnu=[]\n",
    "\n",
    "\n",
    "for i in range(len(cfdata.ADDR)):\n",
    "    \n",
    "    #카카오 API 주소검색\n",
    "    \n",
    "    url1 = 'https://dapi.kakao.com/v2/local/search/address.json?query='+ cfdata.ADDR[i]\n",
    "    headers = {\"Authorization\": \"KakaoAK 6341d1e76477fbac498a469adc87108d\"}\n",
    "    result1 = json.loads(str(requests.get(url1, headers=headers).text))\n",
    "    \n",
    "    if len(result1['documents']) == 0:    #주소검색이 되지 않는 주소일 시 건너뜀\n",
    "        i += 1\n",
    "        all_pnu.append('0')\n",
    "    else:\n",
    "        addinfo = result1['documents'][0]['address']\n",
    "        \n",
    "        #주소 정보 합쳐 pnu 만들기\n",
    "        main_add = (4-len(addinfo['main_address_no'])) * '0' + addinfo['main_address_no']\n",
    "        \n",
    "        sub_add = (4-len(addinfo['sub_address_no'])) * '0' + addinfo['sub_address_no']\n",
    "        \n",
    "        mountain = str(list(map(lambda x: 0 if x == 'Y' else 1, addinfo['mountain_yn']))[0])\n",
    "        \n",
    "        pnu ='pnu=' + addinfo['b_code'] + mountain + main_add + sub_add\n",
    "\n",
    "        all_pnu.append(pnu)\n",
    "\n",
    "print(len(all_pnu))"
   ]
  },
  {
   "cell_type": "code",
   "execution_count": 22,
   "metadata": {},
   "outputs": [
    {
     "data": {
      "text/plain": [
       "280"
      ]
     },
     "execution_count": 22,
     "metadata": {},
     "output_type": "execute_result"
    }
   ],
   "source": [
    "all_pnu.count('0')   #주소검색이 되지 않았던 가게 주소의 갯수"
   ]
  },
  {
   "cell_type": "code",
   "execution_count": 23,
   "metadata": {},
   "outputs": [
    {
     "data": {
      "text/plain": [
       "['pnu=1174010800104390011',\n",
       " 'pnu=1174010900101670073',\n",
       " 'pnu=1174010100103270001',\n",
       " 'pnu=1174010800104480009',\n",
       " 'pnu=1174010600104440000',\n",
       " 'pnu=1174010900104270003',\n",
       " 'pnu=1174010900101570003',\n",
       " 'pnu=1174010600104420005',\n",
       " 'pnu=1174010200101910005',\n",
       " 'pnu=1174010800100480001',\n",
       " 'pnu=1174010800104280005',\n",
       " 'pnu=1174010200106450007',\n",
       " 'pnu=1174010900104560009',\n",
       " 'pnu=1174010800101940000',\n",
       " 'pnu=1174010500103250001',\n",
       " 'pnu=1174010900105720000',\n",
       " 'pnu=1174010100103320003',\n",
       " 'pnu=1174010800103790013',\n",
       " 'pnu=1174010800103840000',\n",
       " 'pnu=1174010900104080012',\n",
       " 'pnu=1174010800105500005',\n",
       " 'pnu=1174010800101200060',\n",
       " 'pnu=1174010600104420011',\n",
       " 'pnu=1174010300105010000',\n",
       " '0']"
      ]
     },
     "execution_count": 23,
     "metadata": {},
     "output_type": "execute_result"
    }
   ],
   "source": [
    "all_pnu[:25]"
   ]
  },
  {
   "cell_type": "code",
   "execution_count": 24,
   "metadata": {},
   "outputs": [
    {
     "data": {
      "text/plain": [
       "24541"
      ]
     },
     "execution_count": 24,
     "metadata": {},
     "output_type": "execute_result"
    }
   ],
   "source": [
    "new_url=[]\n",
    "\n",
    "# 만든 pnu로 공시지가 API 검색을 위한 url 리스트만들기\n",
    "\n",
    "for i in range(len(all_pnu)):\n",
    "    url = 'http://apis.data.go.kr/1611000/nsdi/ReferLandPriceService/wfs/getReferLandPriceWFS?'\n",
    "    servicekey = 'ServiceKey=KbZnc4ks39Uh3gTHjC07NVnharI7QMm1IRiuIU09Sh8qAivpgKhrwDkBI95P0ujEpELuJ%2Bym4qoQihKvxy1Y1Q%3D%3D&'\n",
    "    parameter = url+servicekey+all_pnu[i]\n",
    "    new_url.append(parameter)\n",
    "len(new_url)"
   ]
  },
  {
   "cell_type": "code",
   "execution_count": 26,
   "metadata": {},
   "outputs": [
    {
     "data": {
      "text/plain": [
       "'http://apis.data.go.kr/1611000/nsdi/ReferLandPriceService/wfs/getReferLandPriceWFS?ServiceKey=KbZnc4ks39Uh3gTHjC07NVnharI7QMm1IRiuIU09Sh8qAivpgKhrwDkBI95P0ujEpELuJ%2Bym4qoQihKvxy1Y1Q%3D%3D&pnu=1174010900101670073'"
      ]
     },
     "execution_count": 26,
     "metadata": {},
     "output_type": "execute_result"
    }
   ],
   "source": [
    "new_url[1]   #0~50중 0,17,36,38만 검색됨"
   ]
  },
  {
   "cell_type": "code",
   "execution_count": 27,
   "metadata": {},
   "outputs": [],
   "source": [
    "import urllib.request"
   ]
  },
  {
   "cell_type": "code",
   "execution_count": 39,
   "metadata": {},
   "outputs": [
    {
     "data": {
      "text/plain": [
       "{'wfs:FeatureCollection': {'@xmlns:xs': 'http://www.w3.org/2001/XMLSchema',\n",
       "  '@xmlns:wfs': 'http://www.opengis.net/wfs',\n",
       "  '@xmlns:gml': 'http://www.opengis.net/gml',\n",
       "  '@xmlns:NSDI': 'http://10.1.17.66:6080/arcgis/services/opend/EiosSpceServiceWFS/MapServer/WFSServer',\n",
       "  '@xmlns:xlink': 'http://www.w3.org/1999/xlink',\n",
       "  '@xmlns:xsi': 'http://www.w3.org/2001/XMLSchema-instance',\n",
       "  '@timeStamp': '2021-02-09T17:31:20Z',\n",
       "  '@numberOfFeatures': 'unknown',\n",
       "  '@xsi:schemaLocation': 'http://www.opengis.net/wfs http://schemas.opengis.net/wfs/1.1.0/wfs.xsd http://www.opengis.net/gml http://schemas.opengis.net/gml/3.1.1/base/gml.xsd http://10.1.17.66:6080/arcgis/services/opend/EiosSpceServiceWFS/MapServer/WFSServer http://10.1.17.66:6080/arcgis/services/opendb/EiosSpceServiceWFS/MapServer/WFSServer?service=wfs%26version=1.1.0%26request=DescribeFeatureType'}}"
      ]
     },
     "execution_count": 39,
     "metadata": {},
     "output_type": "execute_result"
    }
   ],
   "source": [
    "request = urllib.request.urlopen(new_url[7])\n",
    "request.get_method = lambda: 'GET'\n",
    "response_body = request.read().decode('utf-8')\n",
    "\n",
    "cc = xmltodict.parse(response_body) # return collections.OrderedDict\n",
    "dd = json.loads(json.dumps(cc)) # return dict\n",
    "#NSDI = dd['wfs:FeatureCollection']['gml:featureMember']['NSDI:F166']\n",
    "dd"
   ]
  },
  {
   "cell_type": "code",
   "execution_count": 360,
   "metadata": {},
   "outputs": [
    {
     "name": "stdout",
     "output_type": "stream",
     "text": [
      "{'@gml:id': 'F166.473862126', 'NSDI:SHAPE': {'gml:MultiSurface': {'gml:surfaceMember': {'gml:Polygon': {'gml:exterior': {'gml:LinearRing': {'gml:posList': '211800 447040.6799999997 211815 447036.2300000005 211817.3899999997 447031.8300000001 211813.2259999998 447017.7909999993 211798.5489999997 447022.1469999999 211786.8470000001 447025.6209999993 211792.0199999996 447043.0490000006 211800 447040.6799999997'}}}}}}, 'NSDI:PNU': '1174010800104390011', 'NSDI:LD_CPSG_CODE': '11740', 'NSDI:LD_EMD_LI_CODE': '10800', 'NSDI:REGSTR_SE_CODE': '1', 'NSDI:MNNM': '0439', 'NSDI:SLNO': '0011', 'NSDI:LNM_LNDCGR_SMBOL': '439-11대', 'NSDI:ISSU_CONFM_CODE': '1', 'NSDI:SRC_OBJECTID': '117310', 'NSDI:SRC_LD_CPSG_CODE': '11740', 'NSDI:PBLNTF_PCLND_STDR_YEAR': '2020', 'NSDI:PBLNTF_PCLND_STDR_MT': '01', 'NSDI:PBLNTF_PCLND': '7120000', 'NSDI:PSTYR_1_PBLNTF_PCLND': '6850000', 'NSDI:PSTYR_2_PBLNTF_PCLND': '6460000', 'NSDI:PSTYR_3_PBLNTF_PCLND': '6350000', 'NSDI:PSTYR_4_PBLNTF_PCLND': '6260000', 'NSDI:STD_LAND_AT': '1', 'NSDI:STD_LAND_SN': '604', 'NSDI:LNDCGR_CODE': '08', 'NSDI:LNDPCL_AR': '494', 'NSDI:PRPOS_AREA': '14', 'NSDI:LAD_USE_SITTN': '210', 'NSDI:LAD_USE_SITTN_ETC': {'@xsi:nil': 'true'}, 'NSDI:TPGRPH_FRM_CODE': '03', 'NSDI:ROAD_SIDE_CODE': '07', 'NSDI:FRST_REGIST_DT': '2020-08-16T03:46:20'}\n"
     ]
    },
    {
     "ename": "KeyError",
     "evalue": "'gml:featureMember'",
     "output_type": "error",
     "traceback": [
      "\u001b[1;31m---------------------------------------------------------------------------\u001b[0m",
      "\u001b[1;31mKeyError\u001b[0m                                  Traceback (most recent call last)",
      "\u001b[1;32m<ipython-input-360-9bbe8f64bd1c>\u001b[0m in \u001b[0;36m<module>\u001b[1;34m\u001b[0m\n\u001b[0;32m     13\u001b[0m     \u001b[0mcc\u001b[0m \u001b[1;33m=\u001b[0m \u001b[0mxmltodict\u001b[0m\u001b[1;33m.\u001b[0m\u001b[0mparse\u001b[0m\u001b[1;33m(\u001b[0m\u001b[0mresponse_body\u001b[0m\u001b[1;33m)\u001b[0m \u001b[1;31m# return collections.OrderedDict\u001b[0m\u001b[1;33m\u001b[0m\u001b[1;33m\u001b[0m\u001b[0m\n\u001b[0;32m     14\u001b[0m     \u001b[0mdd\u001b[0m \u001b[1;33m=\u001b[0m \u001b[0mjson\u001b[0m\u001b[1;33m.\u001b[0m\u001b[0mloads\u001b[0m\u001b[1;33m(\u001b[0m\u001b[0mjson\u001b[0m\u001b[1;33m.\u001b[0m\u001b[0mdumps\u001b[0m\u001b[1;33m(\u001b[0m\u001b[0mcc\u001b[0m\u001b[1;33m)\u001b[0m\u001b[1;33m)\u001b[0m \u001b[1;31m# return dict\u001b[0m\u001b[1;33m\u001b[0m\u001b[1;33m\u001b[0m\u001b[0m\n\u001b[1;32m---> 15\u001b[1;33m     \u001b[0mNSDI\u001b[0m \u001b[1;33m=\u001b[0m \u001b[0mdd\u001b[0m\u001b[1;33m[\u001b[0m\u001b[1;34m'wfs:FeatureCollection'\u001b[0m\u001b[1;33m]\u001b[0m\u001b[1;33m[\u001b[0m\u001b[1;34m'gml:featureMember'\u001b[0m\u001b[1;33m]\u001b[0m\u001b[1;33m[\u001b[0m\u001b[1;34m'NSDI:F166'\u001b[0m\u001b[1;33m]\u001b[0m\u001b[1;33m\u001b[0m\u001b[1;33m\u001b[0m\u001b[0m\n\u001b[0m\u001b[0;32m     16\u001b[0m     \u001b[0mprint\u001b[0m\u001b[1;33m(\u001b[0m\u001b[0mNSDI\u001b[0m\u001b[1;33m)\u001b[0m\u001b[1;33m\u001b[0m\u001b[1;33m\u001b[0m\u001b[0m\n\u001b[0;32m     17\u001b[0m \u001b[1;33m\u001b[0m\u001b[0m\n",
      "\u001b[1;31mKeyError\u001b[0m: 'gml:featureMember'"
     ]
    }
   ],
   "source": [
    "PBLNTF_PCLND=[]\n",
    "ROAD_SIDE_CODE=[]\n",
    "PRPOS_AREA=[]\n",
    "LNDPCL_AR=[]\n",
    "\n",
    "for i in range(len(new_url)):\n",
    "    request = urllib.request.urlopen(new_url[i])\n",
    "    request.get_method = lambda: 'GET'\n",
    "    response_body = request.read().decode('utf-8')\n",
    "    type(response_body)\n",
    "    response_body\n",
    "\n",
    "    cc = xmltodict.parse(response_body) # return collections.OrderedDict\n",
    "    dd = json.loads(json.dumps(cc)) # return dict\n",
    "    NSDI = dd['wfs:FeatureCollection']['gml:featureMember']['NSDI:F166']\n",
    "    print(NSDI)\n",
    "    \n",
    "    PBLNTF_PCLND.append(NSDI['NSDI:PBLNTF_PCLND'])\n",
    "    ROAD_SIDE_CODE.append(NSDI['NSDI:ROAD_SIDE_CODE'])\n",
    "    PRPOS_AREA.append(NSDI['NSDI:PRPOS_AREA'])\n",
    "    LNDPCL_AR.append(NSDI['NSDI:LNDPCL_AR'])"
   ]
  },
  {
   "cell_type": "code",
   "execution_count": 272,
   "metadata": {},
   "outputs": [
    {
     "name": "stdout",
     "output_type": "stream",
     "text": [
      "Requirement already satisfied: xmltodict in c:\\users\\user\\anaconda3\\lib\\site-packages (0.12.0)\n",
      "Note: you may need to restart the kernel to use updated packages.\n"
     ]
    }
   ],
   "source": []
  },
  {
   "cell_type": "code",
   "execution_count": 299,
   "metadata": {},
   "outputs": [],
   "source": []
  },
  {
   "cell_type": "code",
   "execution_count": null,
   "metadata": {},
   "outputs": [],
   "source": []
  }
 ],
 "metadata": {
  "kernelspec": {
   "display_name": "Python 3",
   "language": "python",
   "name": "python3"
  },
  "language_info": {
   "codemirror_mode": {
    "name": "ipython",
    "version": 3
   },
   "file_extension": ".py",
   "mimetype": "text/x-python",
   "name": "python",
   "nbconvert_exporter": "python",
   "pygments_lexer": "ipython3",
   "version": "3.8.5"
  }
 },
 "nbformat": 4,
 "nbformat_minor": 4
}
